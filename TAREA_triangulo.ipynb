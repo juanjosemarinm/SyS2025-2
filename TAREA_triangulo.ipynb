{
  "nbformat": 4,
  "nbformat_minor": 0,
  "metadata": {
    "colab": {
      "private_outputs": true,
      "provenance": [],
      "include_colab_link": true
    },
    "kernelspec": {
      "name": "python3",
      "display_name": "Python 3"
    },
    "language_info": {
      "name": "python"
    }
  },
  "cells": [
    {
      "cell_type": "markdown",
      "metadata": {
        "id": "view-in-github",
        "colab_type": "text"
      },
      "source": [
        "<a href=\"https://colab.research.google.com/github/juanjosemarinm/SyS2025-2/blob/main/TAREA_triangulo.ipynb\" target=\"_parent\"><img src=\"https://colab.research.google.com/assets/colab-badge.svg\" alt=\"Open In Colab\"/></a>"
      ]
    },
    {
      "cell_type": "code",
      "execution_count": null,
      "metadata": {
        "id": "S44UFVQy_UD6"
      },
      "outputs": [],
      "source": [
        "import numpy as np\n",
        "\n",
        "T = 4 # intervalo de la señal\n",
        "B = 5 #altura de la señal\n",
        "d1 = 1 # d1 < T/2\n",
        "Fs = 200*1/T # frecuencia muestreo\n",
        "Ts = 1/Fs # periodo de muestreo\n",
        "t = np.arange(-T/2,T/2,Ts)\n",
        "x = np.zeros(len(t))\n",
        "x[(t>=-d1) & (t<0)] = (B/d1)*t[(t>=-d1) & (t<0)]+B\n",
        "x[(t>=0) & (t<d1)] = -(B/d1)*t[(t>=0) & (t<d1)]+B\n",
        "\n"
      ]
    },
    {
      "cell_type": "code",
      "source": [
        "import matplotlib.pyplot as plt\n",
        "plt.plot(t,x)\n",
        "plt.xlabel('t')\n",
        "plt.ylabel('x(t)')\n",
        "plt.grid()\n",
        "plt.show()"
      ],
      "metadata": {
        "id": "Edn0CyLFFhMB"
      },
      "execution_count": null,
      "outputs": []
    },
    {
      "cell_type": "code",
      "source": [
        "N = 25 #numero armonicos\n",
        "wo = 2*np.pi/T # frecuencia fundamental\n",
        "# definir bases\n",
        "Nm = len(t)\n",
        "phin = np.zeros((Nm,2*N+1),dtype=np.complex128)#crear matriz para guardar bases\n",
        "for n in range(-N,N+1,1):\n",
        "    phin[:,n+N] = np.exp(1j*n*wo*t)#base de fourier en el intervalo de interés"
      ],
      "metadata": {
        "id": "l30zXBr6H5sI"
      },
      "execution_count": null,
      "outputs": []
    },
    {
      "cell_type": "code",
      "source": [
        "\n",
        "\n",
        "plt.plot(t,phin)\n",
        "plt.show()"
      ],
      "metadata": {
        "id": "fc2aKdmrEJEF"
      },
      "execution_count": null,
      "outputs": []
    },
    {
      "cell_type": "markdown",
      "source": [
        "$$c_n = \\frac{B}{\\pi n^2 \\omega_o d_1}\\left( 1 - \\cos(n\\omega_o d_1)\\right)$$"
      ],
      "metadata": {
        "id": "6IvxJvO9Lor1"
      }
    },
    {
      "cell_type": "code",
      "source": [
        "#calcular espectro -> cambiar según la señal estudiada\n",
        "cn = np.zeros(2*N+1,dtype=np.complex128)\n",
        "nv = np.linspace(-N, N, 2*N+1) #vector num armónicos\n",
        "\n",
        "# Calculate the DC component of x\n",
        "dc_component_x = np.mean(x)\n",
        "\n",
        "# Calculate Cn for non-zero nv\n",
        "non_zero_nv_indices = nv != 0\n",
        "Cn = np.zeros(2*N+1,dtype=np.complex128)\n",
        "Cn[non_zero_nv_indices] = (B/(wo*d1*np.pi*nv[non_zero_nv_indices]**2))*(1-np.cos(nv[non_zero_nv_indices]*wo*d1))\n",
        "\n",
        "# Set the DC component of the Fourier coefficients\n",
        "Cn[N] = dc_component_x # nivel dc C_0"
      ],
      "metadata": {
        "id": "OP_R9iM5MBJV"
      },
      "execution_count": null,
      "outputs": []
    },
    {
      "cell_type": "code",
      "source": [
        "#graficar espectro\n",
        "fig = plt.figure(figsize=(8,8))\n",
        "plt.subplot(2,2,1)\n",
        "plt.stem(nv, np.real(Cn), 'r')\n",
        "plt.xlabel(r'$n$',fontsize = 14)\n",
        "plt.ylabel(r'$Re\\{C_n\\}$',fontsize = 14)\n",
        "plt.axis('tight')\n",
        "plt.grid()\n",
        "\n",
        "plt.subplot(2,2,2)\n",
        "plt.stem(nv, np.imag(Cn), 'r')\n",
        "plt.xlabel(r'$n$',fontsize = 14)\n",
        "plt.ylabel(r'$Im\\{C_n\\}$',fontsize = 14)\n",
        "plt.axis('tight')\n",
        "plt.grid()\n",
        "\n",
        "plt.subplot(2,2,3)\n",
        "plt.stem(nv, abs(Cn), 'r')#magnitud del espectro\n",
        "plt.xlabel(r'$n$',fontsize = 14)\n",
        "plt.ylabel(r'$|C_n|$',fontsize = 14)\n",
        "plt.axis('tight')\n",
        "plt.grid()\n",
        "\n",
        "plt.subplot(2,2,4)\n",
        "plt.stem(nv, np.angle(Cn), 'r')#fase del espectro\n",
        "plt.xlabel(r'$n$',fontsize = 14)\n",
        "plt.ylabel(r'$\\langle C_n$',fontsize = 14)\n",
        "plt.axis('tight')\n",
        "plt.grid()\n",
        "\n",
        "fig.tight_layout()"
      ],
      "metadata": {
        "id": "UJFPLU5RO4Og"
      },
      "execution_count": null,
      "outputs": []
    },
    {
      "cell_type": "code",
      "source": [
        "xe = phin.dot(Cn) # dot calcula el producto entre vectores\n",
        "plt.plot(t,xe)\n",
        "plt.show()"
      ],
      "metadata": {
        "id": "E2s8SWKgPCIW"
      },
      "execution_count": null,
      "outputs": []
    },
    {
      "cell_type": "code",
      "source": [
        "from ipywidgets import interact\n",
        "import matplotlib.pyplot as plt\n",
        "\n",
        "Px = (2/3) * (B**2 * d1) / T # estimar según señal estudiada\n",
        "def pltest(Na=1):\n",
        "    ind = np.arange(N-Na,N+Na+1)\n",
        "    er = 1- np.sum(abs(Cn[ind])**2)/Px\n",
        "    #señal reconstruida\n",
        "    xe = phin[:,ind].dot(Cn[ind] ) # dot calcula el producto entre vectores\n",
        "    plt.plot(t,xe,color='b',label='$x_e(t)$') # señal estimada o filtrada\n",
        "    plt.plot(t,x,color='r',label='x(t)') #señal original\n",
        "    plt.title('$E_r$=%.2f[%%]' % (100*er),fontsize=16)\n",
        "    plt.xlabel('t[s]')\n",
        "    plt.ylabel('x(t)')\n",
        "    plt.grid()\n",
        "    plt.legend()\n",
        "    plt.show()\n",
        "    return\n",
        "interact(pltest,Na=(1,N,1))"
      ],
      "metadata": {
        "id": "K3RgahIgQX38"
      },
      "execution_count": null,
      "outputs": []
    },
    {
      "cell_type": "code",
      "source": [
        "from matplotlib import animation\n",
        "from matplotlib import rc\n",
        "\n",
        "#figura y axes animaciónx\n",
        "fig, ax = plt.subplots(2, 3,figsize=(12,5))\n",
        "#función para gráfico interactivo\n",
        "def update(n):\n",
        "    #actualización regresor Bayesiano\n",
        "    #Graficar prior\n",
        "    ax[0,0].clear()\n",
        "    ax[0,1].clear()\n",
        "    ax[0,2].clear()\n",
        "    ax[1,0].clear()\n",
        "    ax[1,1].clear()\n",
        "    ax[1,2].clear()\n",
        "\n",
        "    #espectro\n",
        "    ind = np.arange(N-n,N+n+1) #armónicos a considerar\n",
        "    stem1 = ax[0,0].stem(nv, abs(Cn), 'b')#magnitud del espectro\n",
        "    stem2 = ax[0,0].stem(nv[ind], abs(Cn[ind]), 'r')#magnitud del espectro\n",
        "    ax[0,0].set_xlabel(r'$n$[rad/s]')\n",
        "    ax[0,0].set_ylabel(r'$|C_n|$')\n",
        "\n",
        "    #componentes espectrales\n",
        "    ce = phin[:,ind].dot(np.diag(Cn[ind]) )\n",
        "    line1 = ax[0,1].plot(t,np.real(ce))#componente real\n",
        "    ax[0,1].set_xlabel('t[s]')\n",
        "    ax[0,1].set_ylabel('$Re\\{c_n\\phi_n(t)\\}$')\n",
        "\n",
        "    line2 = ax[0,2].plot(t,np.imag(ce))#componente imaginario\n",
        "    ax[0,2].set_xlabel('t[s]')\n",
        "    ax[0,2].set_ylabel('$Im\\{c_n\\phi_n(t)\\}$')\n",
        "\n",
        "\n",
        "\n",
        "\n",
        "    #reconstruccion\n",
        "    er = 1- np.sum(abs(Cn[ind])**2)/Px\n",
        "    #señal reconstruida\n",
        "    xe = phin[:,ind].dot(Cn[ind] ) # dot calcula el producto entre vectores\n",
        "    #error en t\n",
        "    et = x - xe\n",
        "\n",
        "    line3 = ax[1,1].plot(t,x,'r',linewidth=4,label='$x(t)$')\n",
        "    line4 = ax[1,1].plot(t,xe,color='b',label='$x_e(t)$') # señal estimada o filtrada\n",
        "    line5 = ax[1,1].plot(t,et,color='g',label='$e(t)$') # señal estimada o filtrada\n",
        "    ax[1,1].set_title('$E_r$=%.2f[%%]' % (100*er))\n",
        "    ax[1,1].set_xlabel('t[s]')\n",
        "    ax[1,1].set_ylabel('x(t)')\n",
        "    ax[1,1].legend(loc='center left', bbox_to_anchor=(1, 0.5))\n",
        "    ax[1,0].axis('off')\n",
        "    ax[1,2].axis('off')\n",
        "    plt.subplots_adjust(wspace=0.5,hspace=0.7)\n",
        "\n",
        "    return stem1, stem2, line1[0], line2[0], line3[0], line4[0], line5[0]\n",
        "\n",
        "#desplegar animación\n",
        "anim = animation.FuncAnimation(fig, update, frames=np.arange(0,N+1,1), blit=False)\n",
        "rc('animation', html='jshtml')"
      ],
      "metadata": {
        "id": "whKRqy41kqm3"
      },
      "execution_count": null,
      "outputs": []
    },
    {
      "cell_type": "code",
      "source": [
        "anim"
      ],
      "metadata": {
        "id": "LUpyKR8VwI4r"
      },
      "execution_count": null,
      "outputs": []
    }
  ]
}
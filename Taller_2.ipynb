{
  "nbformat": 4,
  "nbformat_minor": 0,
  "metadata": {
    "colab": {
      "provenance": [],
      "authorship_tag": "ABX9TyNPIiC71cjQoNs5iswoWtjo",
      "include_colab_link": true
    },
    "kernelspec": {
      "name": "python3",
      "display_name": "Python 3"
    },
    "language_info": {
      "name": "python"
    }
  },
  "cells": [
    {
      "cell_type": "markdown",
      "metadata": {
        "id": "view-in-github",
        "colab_type": "text"
      },
      "source": [
        "<a href=\"https://colab.research.google.com/github/juanjosemarinm/SyS2025-2/blob/main/Taller_2.ipynb\" target=\"_parent\"><img src=\"https://colab.research.google.com/assets/colab-badge.svg\" alt=\"Open In Colab\"/></a>"
      ]
    },
    {
      "cell_type": "markdown",
      "source": [
        "# **Ejercicios Teórico-Prácticos: Transformadas de Fourier, Laplace y Z**\n",
        "\n",
        "## **Señales y Sistemas 2025**\n",
        "\n",
        "\n",
        "**Profesor:** Andrés Marino Álvarez Meza, Ph.D.  \n",
        "\n",
        "*Departamento de Ingeniería Eléctrica, Electrónica y Computación.*\n",
        "\n",
        "*Universidad Nacional de Colombia - sede Manizales*"
      ],
      "metadata": {
        "id": "j0aCYhiZaySk"
      }
    },
    {
      "cell_type": "markdown",
      "source": [
        "#**1. Transformada de fourier**\n",
        "\n",
        "##1.1 Consultar y realizar los ejercicios propuestos en el cuaderno  Transformada de fourier\n",
        "\n",
        "###**Solucion**\n",
        "https://colab.research.google.com/drive/14pDJpIfpV8fZ94TOLwgKIx6H87q4SDNo"
      ],
      "metadata": {
        "id": "dxCNQ8oUb3kt"
      }
    }
  ]
}